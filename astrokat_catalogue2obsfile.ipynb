{
  "nbformat": 4,
  "nbformat_minor": 0,
  "metadata": {
    "colab": {
      "name": "astrokat-catalogue2obsfile.ipynb",
      "provenance": [],
      "authorship_tag": "ABX9TyOeNGY62WazvJjc/gLBgWp3",
      "include_colab_link": true
    },
    "kernelspec": {
      "name": "python3",
      "display_name": "Python 3"
    }
  },
  "cells": [
    {
      "cell_type": "markdown",
      "metadata": {
        "id": "view-in-github",
        "colab_type": "text"
      },
      "source": [
        "<a href=\"https://colab.research.google.com/github/rubyvanrooyen/astrokat/blob/colab_helper_interface/astrokat_catalogue2obsfile.ipynb\" target=\"_parent\"><img src=\"https://colab.research.google.com/assets/colab-badge.svg\" alt=\"Open In Colab\"/></a>"
      ]
    },
    {
      "cell_type": "markdown",
      "metadata": {
        "id": "KVAI_BM-eZf8"
      },
      "source": [
        "# AstroKAT catalogue to observation file\n",
        "The minimum required information for any observation is a list of observation targets specified as one target per line, using comma separated formatting to provide the relevant target information.\n",
        "\n",
        "For more detail refer to the\n",
        "[Catalogues to observation files](https://github.com/ska-sa/astrokat/wiki/Catalogues-to-observation-files)\n",
        "documentation on the\n",
        "[AstroKAT](https://github.com/ska-sa/astrokat/wiki)\n",
        "wiki page.\n"
      ]
    },
    {
      "cell_type": "markdown",
      "metadata": {
        "id": "qeel-oiezpX_"
      },
      "source": [
        "## Installation and setup"
      ]
    },
    {
      "cell_type": "code",
      "metadata": {
        "id": "Qitxbc-n62r7"
      },
      "source": [
        "!pip install git+https://github.com/ska-sa/astrokat.git"
      ],
      "execution_count": null,
      "outputs": []
    },
    {
      "cell_type": "code",
      "metadata": {
        "id": "pghftjCn6_yX"
      },
      "source": [
        "!git clone https://github.com/ska-sa/astrokat.git"
      ],
      "execution_count": null,
      "outputs": []
    },
    {
      "cell_type": "code",
      "metadata": {
        "id": "SQypWvRSGFe_"
      },
      "source": [
        "!ln -s /content/astrokat/scripts/astrokat-catalogue2obsfile.py catalogue2obsfile.py"
      ],
      "execution_count": null,
      "outputs": []
    },
    {
      "cell_type": "markdown",
      "metadata": {
        "id": "TMxNquZEISMp"
      },
      "source": [
        "## User input\n",
        "Upload CSV catalogue containing target coordinates for convertion to observation file"
      ]
    },
    {
      "cell_type": "code",
      "metadata": {
        "id": "hBwVotZqGph5"
      },
      "source": [
        "from google.colab import files\n",
        "uploaded = files.upload()\n",
        "filename = next(iter(uploaded))\n",
        "print(filename)"
      ],
      "execution_count": null,
      "outputs": []
    },
    {
      "cell_type": "markdown",
      "metadata": {
        "id": "tXTU9AOxIc3j"
      },
      "source": [
        "MeerKAT instrument setup for observation"
      ]
    },
    {
      "cell_type": "code",
      "metadata": {
        "id": "8UVse9DOI0Zx",
        "cellView": "form"
      },
      "source": [
        "#@markdown observation instrument product configuration\n",
        "product =  '' #@param {type:\"string\"}\n",
        "# add lists with values allowed -- and add standard imaging modes\n",
        "# text_and_dropdown = 'value' #@param [\"1st option\", \"2nd option\", \"3rd option\"] {allow-input: true}\n",
        "\n",
        "#@markdown observation band\n",
        "band = 'L' #@param [\"L\", \"UHF\", \"X\", \"S\"]\n",
        "\n",
        "#@markdown averaging time per dump [sec]\n",
        "integration_period = 8.0 #@param {type:\"number\"}"
      ],
      "execution_count": null,
      "outputs": []
    },
    {
      "cell_type": "markdown",
      "metadata": {
        "id": "BAT9wtSxK2mf"
      },
      "source": [
        "Target observation strategy.    \n",
        "Tracking a target for imaging or spectral line observations."
      ]
    },
    {
      "cell_type": "code",
      "metadata": {
        "id": "zKpeRGd3K90J",
        "cellView": "form"
      },
      "source": [
        "#@markdown observation start LST [HH:MM] (-1 for auto)\n",
        "lst = -1 #@param {type:\"number\"}\n",
        "\n",
        "#@markdown default target track duration [sec]\n",
        "target_duration = 300.0 #@param {type:\"number\"}\n",
        "\n",
        "#@markdown maximum duration of observation [sec] (-1 for auto)\n",
        "max_duration = -1 #@param {type:\"number\"}"
      ],
      "execution_count": null,
      "outputs": []
    },
    {
      "cell_type": "markdown",
      "metadata": {
        "id": "VTknj4iJLGdD"
      },
      "source": [
        "Calibrator observation strategy.   \n",
        "Calibrators are identified by tags in their description strings: `bpcal`, `gaincal`, `fluxcal` and `polcal` respectively"
      ]
    },
    {
      "cell_type": "code",
      "metadata": {
        "id": "kFxzMOQGLKdc",
        "cellView": "form"
      },
      "source": [
        "#@markdown primary calibrators are 'bpcal', 'fluxcal' and 'polcal'\n",
        "\n",
        "#@markdown minimum duration to track primary calibrators [sec].  \n",
        "primary_cal_duration = 300. #@param {type:\"number\"}\n",
        "\n",
        "#@markdown minimum observation interval between primary calibrators [sec]  (-1 for no cadence)\n",
        "primary_cal_cadence = -1 #@param {type:\"number\"}\n",
        "\n",
        "\n",
        "#@markdown primary calibrators are 'gaincal' and 'delaycal'\n",
        "\n",
        "#@markdown minimum duration to track gain calibrator [sec]\n",
        "secondary_cal_duration = 60. #@param {type:\"number\"}"
      ],
      "execution_count": null,
      "outputs": []
    },
    {
      "cell_type": "markdown",
      "metadata": {
        "id": "5AgDzybXvYbC"
      },
      "source": [
        "Sources are specified as a catalogue of targets, with optional timing information"
      ]
    },
    {
      "cell_type": "code",
      "metadata": {
        "id": "CdCT06xCGpsg",
        "cellView": "form"
      },
      "source": [
        "#@markdown filename for output observation file (default only displays output)\n",
        "outfile = '' #@param {type:\"string\"}"
      ],
      "execution_count": null,
      "outputs": []
    },
    {
      "cell_type": "markdown",
      "metadata": {
        "id": "7s4bLuCDwrvA"
      },
      "source": [
        "## Convert CSV to YAML"
      ]
    },
    {
      "cell_type": "code",
      "metadata": {
        "id": "SQ_M2v5A6_u-"
      },
      "source": [
        "import astrokat\n",
        "import catalogue2obsfile as cat2obs"
      ],
      "execution_count": null,
      "outputs": []
    },
    {
      "cell_type": "code",
      "metadata": {
        "id": "Q45LZxK2qaMz"
      },
      "source": [
        "# unpack and verify user input\n",
        "instrument = {}\n",
        "if product: instrument['product'] = product\n",
        "instrument['band'] = band\n",
        "instrument['integration_period'] = integration_period\n",
        "\n",
        "def eval_none(val_):\n",
        "    if val_ < 0:\n",
        "        return None\n",
        "    else:\n",
        "        return val_\n",
        "\n",
        "\n",
        "lst = eval_none(lst)\n",
        "max_duration = eval_none(max_duration)\n",
        "primary_cal_cadence = eval_none(primary_cal_cadence)\n",
        "\n",
        "if not outfile: outfile = None"
      ],
      "execution_count": null,
      "outputs": []
    },
    {
      "cell_type": "code",
      "metadata": {
        "id": "T0a-V6R6w0Ro"
      },
      "source": [
        "# read targets from catalogue file\n",
        "cat_obj = cat2obs.UnpackCatalogue(filename)\n",
        "header, catalogue = cat_obj.read_catalogue(target_duration=target_duration,\n",
        "                                           gaincal_duration=secondary_cal_duration,\n",
        "                                           bpcal_duration=primary_cal_duration,\n",
        "                                           bpcal_interval=primary_cal_cadence)"
      ],
      "execution_count": null,
      "outputs": []
    },
    {
      "cell_type": "code",
      "metadata": {
        "id": "LrF5qtAzyvjK"
      },
      "source": [
        "# create observation configuration output\n",
        "obs_plan = cat2obs.BuildObservation(catalogue)\n",
        "obs_plan.configure(instrument=instrument,\n",
        "                   obs_duration=max_duration,\n",
        "                   lst=lst)"
      ],
      "execution_count": null,
      "outputs": []
    },
    {
      "cell_type": "code",
      "metadata": {
        "id": "b7m0HFbW6_03"
      },
      "source": [
        "# display observation info or write to YAML file\n",
        "obs_plan.write_yaml(header=header, outfile=outfile)"
      ],
      "execution_count": null,
      "outputs": []
    },
    {
      "cell_type": "code",
      "metadata": {
        "id": "aSHMtD316_8Y"
      },
      "source": [
        ""
      ],
      "execution_count": null,
      "outputs": []
    }
  ]
}